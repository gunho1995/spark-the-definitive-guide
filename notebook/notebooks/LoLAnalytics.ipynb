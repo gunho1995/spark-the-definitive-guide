{
 "cells": [
  {
   "cell_type": "code",
   "execution_count": 4,
   "id": "f0eb652a-4568-4e63-8f67-808cb788f71d",
   "metadata": {},
   "outputs": [
    {
     "data": {
      "text/plain": [
       "data: Seq[(String, String)] = List((Java,20000), (Python,100000), (Scala,3000))\n",
       "import spark.implicits._\n",
       "dfFromData1: org.apache.spark.sql.DataFrame = [_1: string, _2: string]\n"
      ]
     },
     "execution_count": 4,
     "metadata": {},
     "output_type": "execute_result"
    }
   ],
   "source": [
    "val data= Seq((\"Java\", \"20000\"), (\"Python\", \"100000\"), (\"Scala\", \"3000\"))\n",
    "\n",
    "import spark.implicits._\n",
    "val dfFromData1 = data.toDF() \n"
   ]
  },
  {
   "cell_type": "code",
   "execution_count": 5,
   "id": "463df517-677c-4e9f-8712-5690733c2d75",
   "metadata": {},
   "outputs": [
    {
     "name": "stdout",
     "output_type": "stream",
     "text": [
      "+------+------+\n",
      "|    _1|    _2|\n",
      "+------+------+\n",
      "|  Java| 20000|\n",
      "|Python|100000|\n",
      "| Scala|  3000|\n",
      "+------+------+\n",
      "\n"
     ]
    }
   ],
   "source": [
    "dfFromData1.show()"
   ]
  },
  {
   "cell_type": "code",
   "execution_count": 31,
   "id": "ecd2da6b-40c0-469b-be00-63273bf8704c",
   "metadata": {},
   "outputs": [
    {
     "data": {
      "text/plain": [
       "semiFinal_1_1: Seq[(String, String, Int, Int, Int, Int, Int, Int)] = List((its,cogmo,12,5,10,50867,22737,465), (greecar,thresh,2,5,19,5552,11251,230), (boradoli,warwick,5,10,12,13473,13570,278), (mavel,ryze,7,5,16,43774,21728,445), (gor4,lylia,11,6,17,48016,19948,408))\n",
       "semiFinal_1_2: Seq[(String, String, Int, Int, Int, Int, Int, Int)] = List((its,jinx,6,0,5,15510,11005,478), (greencar,lulu,0,1,13,4670,6525,284), (boradoli,noct,4,0,12,11366,9471,512), (mavel,victor,9,0,7,23951,11910,518), (gor4,shen,3,0,11,8407,8053,350))\n",
       "semiFinal_1_3: Seq[(String, String, Int, Int, Int, Int, Int, Int)] = List((its,jinx,6,1,7,26262,15334,468), (greencar,nami,3,0,10,7462,9856,301), (boradoli,noct,1,2,12,7158,11768,359), (mavel,akali,10,1,2,19815,13632,416), (gor4,mode,2,3,3,14519,11990,366))\n",
       "paldo_raw: o...\n"
      ]
     },
     "execution_count": 31,
     "metadata": {},
     "output_type": "execute_result"
    }
   ],
   "source": [
    "// 닉네임, 챔피언, K, D, A, 딜량, 획득 골드량, 분당 획득 골드량\n",
    "\n",
    "//val schema = Seq(\"nickname\", \"champs\", \"kill\", \"death\", \"assist\", \"damage\", \"gold\", \"goldpermin\")\n",
    "val semiFinal_1_1 = Seq((\"its\", \"cogmo\", 12, 5, 10, 50867, 22737, 465), (\"greecar\", \"thresh\", 2, 5, 19, 5552, 11251, 230), (\"boradoli\", \"warwick\", 5, 10, 12, 13473, 13570, 278), (\"mavel\", \"ryze\", 7, 5, 16, 43774, 21728, 445), (\"gor4\", \"lylia\", 11, 6, 17, 48016, 19948, 408))\n",
    "val semiFinal_1_2 = Seq((\"its\", \"jinx\", 6, 0, 5, 15510, 11005, 478), (\"greencar\", \"lulu\", 0, 1, 13, 4670, 6525, 284), (\"boradoli\", \"noct\",  4, 0, 12, 11366, 9471, 512), (\"mavel\", \"victor\", 9, 0, 7, 23951, 11910, 518), (\"gor4\", \"shen\", 3, 0, 11, 8407, 8053, 350))\n",
    "val semiFinal_1_3 = Seq((\"its\", \"jinx\", 6, 1, 7, 26262, 15334, 468), (\"greencar\", \"nami\", 3, 0, 10, 7462, 9856, 301), (\"boradoli\", \"noct\",  1, 2, 12, 7158, 11768, 359), (\"mavel\", \"akali\", 10, 1, 2, 19815, 13632, 416), (\"gor4\", \"mode\", 2, 3, 3, 14519, 11990, 366))\n",
    "\n",
    "val paldo_raw = semiFinal_1_1.toDF().union(semiFinal_1_2.toDF()).union(semiFinal_1_3.toDF())"
   ]
  },
  {
   "cell_type": "code",
   "execution_count": 32,
   "id": "00de3db9-f93f-4484-bfe0-2949e1225dff",
   "metadata": {},
   "outputs": [
    {
     "name": "stdout",
     "output_type": "stream",
     "text": [
      "+--------+-------+---+---+---+-----+-----+---+\n",
      "|      _1|     _2| _3| _4| _5|   _6|   _7| _8|\n",
      "+--------+-------+---+---+---+-----+-----+---+\n",
      "|     its|  cogmo| 12|  5| 10|50867|22737|465|\n",
      "| greecar| thresh|  2|  5| 19| 5552|11251|230|\n",
      "|boradoli|warwick|  5| 10| 12|13473|13570|278|\n",
      "|   mavel|   ryze|  7|  5| 16|43774|21728|445|\n",
      "|    gor4|  lylia| 11|  6| 17|48016|19948|408|\n",
      "|     its|   jinx|  6|  0|  5|15510|11005|478|\n",
      "|greencar|   lulu|  0|  1| 13| 4670| 6525|284|\n",
      "|boradoli|   noct|  4|  0| 12|11366| 9471|512|\n",
      "|   mavel| victor|  9|  0|  7|23951|11910|518|\n",
      "|    gor4|   shen|  3|  0| 11| 8407| 8053|350|\n",
      "|     its|   jinx|  6|  1|  7|26262|15334|468|\n",
      "|greencar|   nami|  3|  0| 10| 7462| 9856|301|\n",
      "|boradoli|   noct|  1|  2| 12| 7158|11768|359|\n",
      "|   mavel|  akali| 10|  1|  2|19815|13632|416|\n",
      "|    gor4|   mode|  2|  3|  3|14519|11990|366|\n",
      "+--------+-------+---+---+---+-----+-----+---+\n",
      "\n"
     ]
    }
   ],
   "source": [
    "paldo_raw.show()"
   ]
  },
  {
   "cell_type": "code",
   "execution_count": 41,
   "id": "6ed833a2-3fcd-4e7d-b76e-dcc52a37e763",
   "metadata": {},
   "outputs": [
    {
     "data": {
      "text/plain": [
       "semiFinal_2_1: Seq[(String, String, Int, Int, Int, Int, Int, Int)] = List((ces,wukong,4,3,13,19633,12422,368), (immo,rakan,3,5,20,9018,9320,276), (ta,ezreal,15,0,7,47529,16784,497), (goggum,malphite,6,2,14,25227,12374,366), (martis,oriana,4,5,20,25595,13008,385))\n",
       "semiFinal_2_2: Seq[(String, String, Int, Int, Int, Int, Int, Int)] = List((ces,graves,3,5,14,17756,14116,436), (immo,lulu,1,4,23,4199,8756,270), (ta,swain,8,4,7,18937,12335,381), (goggum,maokai,2,4,16,17711,10255,317), (martis,lucian,15,5,7,35278,17106,528))\n",
       "illuminati_raw: org.apache.spark.sql.Dataset[org.apache.spark.sql.Row] = [_1: string, _2: string ... 6 more fields]\n"
      ]
     },
     "execution_count": 41,
     "metadata": {},
     "output_type": "execute_result"
    }
   ],
   "source": [
    "val semiFinal_2_1 = Seq((\"ces\", \"wukong\", 4, 3, 13, 19633, 12422, 368), (\"immo\", \"rakan\", 3, 5, 20, 9018, 9320, 276), (\"ta\", \"ezreal\", 15, 0, 7, 47529, 16784, 497), (\"goggum\", \"malphite\", 6, 2, 14, 25227, 12374, 366), (\"martis\", \"oriana\", 4, 5, 20, 25595, 13008, 385))\n",
    "val semiFinal_2_2 = Seq((\"ces\", \"graves\", 3, 5, 14, 17756, 14116, 436), (\"immo\", \"lulu\", 1, 4, 23, 4199, 8756, 270), (\"ta\", \"swain\", 8, 4, 7, 18937, 12335, 381), (\"goggum\", \"maokai\", 2, 4, 16, 17711, 10255, 317), (\"martis\", \"lucian\", 15, 5, 7, 35278, 17106, 528))\n",
    "\n",
    "val illuminati_raw = semiFinal_2_1.toDF().union(semiFinal_2_2.toDF())"
   ]
  },
  {
   "cell_type": "code",
   "execution_count": 42,
   "id": "93315745-90c4-4cb0-a59b-844e75f75f2f",
   "metadata": {},
   "outputs": [
    {
     "name": "stdout",
     "output_type": "stream",
     "text": [
      "+------+--------+---+---+---+-----+-----+---+\n",
      "|    _1|      _2| _3| _4| _5|   _6|   _7| _8|\n",
      "+------+--------+---+---+---+-----+-----+---+\n",
      "|   ces|  wukong|  4|  3| 13|19633|12422|368|\n",
      "|  immo|   rakan|  3|  5| 20| 9018| 9320|276|\n",
      "|    ta|  ezreal| 15|  0|  7|47529|16784|497|\n",
      "|goggum|malphite|  6|  2| 14|25227|12374|366|\n",
      "|martis|  oriana|  4|  5| 20|25595|13008|385|\n",
      "|   ces|  graves|  3|  5| 14|17756|14116|436|\n",
      "|  immo|    lulu|  1|  4| 23| 4199| 8756|270|\n",
      "|    ta|   swain|  8|  4|  7|18937|12335|381|\n",
      "|goggum|  maokai|  2|  4| 16|17711|10255|317|\n",
      "|martis|  lucian| 15|  5|  7|35278|17106|528|\n",
      "+------+--------+---+---+---+-----+-----+---+\n",
      "\n"
     ]
    }
   ],
   "source": [
    "illuminati_raw.show()"
   ]
  },
  {
   "cell_type": "code",
   "execution_count": 98,
   "id": "8ce2c2d5-034d-45cb-aa9b-629aa926ca10",
   "metadata": {},
   "outputs": [
    {
     "data": {
      "text/plain": [
       "import org.apache.spark.sql.DataFrame\n",
       "import org.apache.spark.sql.types._\n",
       "getKDA: (rawData: org.apache.spark.sql.DataFrame)org.apache.spark.sql.DataFrame\n",
       "Deal: (rawData: org.apache.spark.sql.DataFrame, matches: Int)org.apache.spark.sql.DataFrame\n",
       "GoldPerMin: (rawData: org.apache.spark.sql.DataFrame, matches: Int)org.apache.spark.sql.DataFrame\n"
      ]
     },
     "execution_count": 98,
     "metadata": {},
     "output_type": "execute_result"
    }
   ],
   "source": [
    "import org.apache.spark.sql.DataFrame\n",
    "import org.apache.spark.sql.types._\n",
    "\n",
    "def getKDA(rawData: DataFrame): DataFrame = {\n",
    "    rawData.groupBy(\"_1\").sum(\"_3\", \"_4\", \"_5\")\n",
    "}\n",
    "\n",
    "def Deal(rawData: DataFrame, matches: Int): DataFrame = {\n",
    "    val temp = rawData.groupBy(\"_1\").sum(\"_6\")\n",
    "    temp.withColumn(\"deal average\", $\"sum(_6)\" / lit(matches))\n",
    "}\n",
    "\n",
    "def GoldPerMin(rawData: DataFrame, matches: Int): DataFrame = {\n",
    "    val temp = rawData.groupBy(\"_1\").sum(\"_8\")\n",
    "    temp.withColumn(\"gold per min\", $\"sum(_8)\" / lit(matches))\n",
    "}"
   ]
  },
  {
   "cell_type": "code",
   "execution_count": 86,
   "id": "9d350456-db67-4221-90f1-82051e309d19",
   "metadata": {},
   "outputs": [
    {
     "name": "stdout",
     "output_type": "stream",
     "text": [
      "+--------+-------+-------+-------+\n",
      "|      _1|sum(_3)|sum(_4)|sum(_5)|\n",
      "+--------+-------+-------+-------+\n",
      "|     its|     24|      6|     22|\n",
      "| greecar|      2|      5|     19|\n",
      "|boradoli|     10|     12|     36|\n",
      "|   mavel|     26|      6|     25|\n",
      "|    gor4|     16|      9|     31|\n",
      "|greencar|      3|      1|     23|\n",
      "+--------+-------+-------+-------+\n",
      "\n"
     ]
    }
   ],
   "source": [
    "getKDA(paldo_raw).show()"
   ]
  },
  {
   "cell_type": "code",
   "execution_count": 60,
   "id": "a7026b71-bcca-41f0-9668-1e8d3cd5f277",
   "metadata": {},
   "outputs": [
    {
     "name": "stdout",
     "output_type": "stream",
     "text": [
      "+------+-------+-------+-------+\n",
      "|    _1|sum(_3)|sum(_4)|sum(_5)|\n",
      "+------+-------+-------+-------+\n",
      "|   ces|      7|      8|     27|\n",
      "|  immo|      4|      9|     43|\n",
      "|    ta|     23|      4|     14|\n",
      "|goggum|      8|      6|     30|\n",
      "|martis|     19|     10|     27|\n",
      "+------+-------+-------+-------+\n",
      "\n"
     ]
    }
   ],
   "source": [
    "getKDA(illuminati_raw).show()"
   ]
  },
  {
   "cell_type": "code",
   "execution_count": 99,
   "id": "220b79b3-b087-4ae6-92a4-1023ae97a102",
   "metadata": {},
   "outputs": [
    {
     "name": "stdout",
     "output_type": "stream",
     "text": [
      "+--------+-------+------------------+\n",
      "|      _1|sum(_6)|      deal average|\n",
      "+--------+-------+------------------+\n",
      "|     its|  92639|30879.666666666668|\n",
      "| greecar|   5552|1850.6666666666667|\n",
      "|boradoli|  31997|10665.666666666666|\n",
      "|   mavel|  87540|           29180.0|\n",
      "|    gor4|  70942|23647.333333333332|\n",
      "|greencar|  12132|            4044.0|\n",
      "+--------+-------+------------------+\n",
      "\n"
     ]
    }
   ],
   "source": [
    "Deal(paldo_raw, 3).show()"
   ]
  },
  {
   "cell_type": "code",
   "execution_count": 100,
   "id": "54e30b67-2598-4d22-9643-86a0eb9ca25e",
   "metadata": {},
   "outputs": [
    {
     "name": "stdout",
     "output_type": "stream",
     "text": [
      "+------+-------+------------+\n",
      "|    _1|sum(_6)|deal average|\n",
      "+------+-------+------------+\n",
      "|   ces|  37389|     18694.5|\n",
      "|  immo|  13217|      6608.5|\n",
      "|    ta|  66466|     33233.0|\n",
      "|goggum|  42938|     21469.0|\n",
      "|martis|  60873|     30436.5|\n",
      "+------+-------+------------+\n",
      "\n"
     ]
    }
   ],
   "source": [
    "Deal(illuminati_raw, 2).show()"
   ]
  },
  {
   "cell_type": "code",
   "execution_count": 101,
   "id": "42640fe3-1073-4b5d-b39b-b1457bd32d9d",
   "metadata": {},
   "outputs": [
    {
     "name": "stdout",
     "output_type": "stream",
     "text": [
      "+--------+-------+-----------------+\n",
      "|      _1|sum(_8)|     gold per min|\n",
      "+--------+-------+-----------------+\n",
      "|     its|   1411|470.3333333333333|\n",
      "| greecar|    230|76.66666666666667|\n",
      "|boradoli|   1149|            383.0|\n",
      "|   mavel|   1379|459.6666666666667|\n",
      "|    gor4|   1124|374.6666666666667|\n",
      "|greencar|    585|            195.0|\n",
      "+--------+-------+-----------------+\n",
      "\n"
     ]
    }
   ],
   "source": [
    "GoldPerMin(paldo_raw, 3).show()"
   ]
  },
  {
   "cell_type": "code",
   "execution_count": 102,
   "id": "d9b0443f-668c-43f4-9576-f8b1eb696f43",
   "metadata": {},
   "outputs": [
    {
     "name": "stdout",
     "output_type": "stream",
     "text": [
      "+------+-------+------------+\n",
      "|    _1|sum(_8)|gold per min|\n",
      "+------+-------+------------+\n",
      "|   ces|    804|       402.0|\n",
      "|  immo|    546|       273.0|\n",
      "|    ta|    878|       439.0|\n",
      "|goggum|    683|       341.5|\n",
      "|martis|    913|       456.5|\n",
      "+------+-------+------------+\n",
      "\n"
     ]
    }
   ],
   "source": [
    "GoldPerMin(illuminati_raw, 2).show()"
   ]
  }
 ],
 "metadata": {
  "kernelspec": {
   "display_name": "spylon-kernel",
   "language": "scala",
   "name": "spylon-kernel"
  },
  "language_info": {
   "codemirror_mode": "text/x-scala",
   "file_extension": ".scala",
   "help_links": [
    {
     "text": "MetaKernel Magics",
     "url": "https://metakernel.readthedocs.io/en/latest/source/README.html"
    }
   ],
   "mimetype": "text/x-scala",
   "name": "scala",
   "pygments_lexer": "scala",
   "version": "0.4.1"
  }
 },
 "nbformat": 4,
 "nbformat_minor": 5
}
