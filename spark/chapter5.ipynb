val df = spark.read.format("json").load("/data/flight-data/json/2015-summary.json")

df.printSchema()
